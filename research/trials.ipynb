{
 "cells": [
  {
   "cell_type": "code",
   "execution_count": 1,
   "metadata": {},
   "outputs": [
    {
     "name": "stdout",
     "output_type": "stream",
     "text": [
      "ok\n"
     ]
    }
   ],
   "source": [
    "print(\"ok\")"
   ]
  },
  {
   "cell_type": "code",
   "execution_count": 2,
   "metadata": {},
   "outputs": [],
   "source": [
    "from langchain_groq import ChatGroq"
   ]
  },
  {
   "cell_type": "code",
   "execution_count": 3,
   "metadata": {},
   "outputs": [],
   "source": [
    "from langchain_cohere import CohereEmbeddings"
   ]
  },
  {
   "cell_type": "code",
   "execution_count": 4,
   "metadata": {},
   "outputs": [],
   "source": [
    "import os"
   ]
  },
  {
   "cell_type": "code",
   "execution_count": 5,
   "metadata": {},
   "outputs": [],
   "source": [
    "import os\n",
    "from dotenv import load_dotenv"
   ]
  },
  {
   "cell_type": "code",
   "execution_count": 6,
   "metadata": {},
   "outputs": [],
   "source": [
    "load_dotenv()\n",
    "GROQ_API_KEY = os.getenv(\"GROQ_API_KEY\")"
   ]
  },
  {
   "cell_type": "code",
   "execution_count": 7,
   "metadata": {},
   "outputs": [],
   "source": [
    "os.environ[\"GROQ_API_KEY\"] = GROQ_API_KEY"
   ]
  },
  {
   "cell_type": "code",
   "execution_count": 9,
   "metadata": {},
   "outputs": [],
   "source": [
    "load_dotenv()\n",
    "COHERE_API_KEY = os.getenv(\"COHERE_API_KEY\")"
   ]
  },
  {
   "cell_type": "code",
   "execution_count": 10,
   "metadata": {},
   "outputs": [],
   "source": [
    "os.environ[\"COHERE_API_KEY\"] = COHERE_API_KEY"
   ]
  },
  {
   "cell_type": "code",
   "execution_count": 12,
   "metadata": {},
   "outputs": [],
   "source": [
    "from langchain.document_loaders import PyPDFLoader"
   ]
  },
  {
   "cell_type": "code",
   "execution_count": 13,
   "metadata": {},
   "outputs": [
    {
     "data": {
      "text/plain": [
       "'d:\\\\Interview-Question-Creator-Project\\\\research'"
      ]
     },
     "execution_count": 13,
     "metadata": {},
     "output_type": "execute_result"
    }
   ],
   "source": [
    "%pwd"
   ]
  },
  {
   "cell_type": "code",
   "execution_count": 14,
   "metadata": {},
   "outputs": [
    {
     "name": "stdout",
     "output_type": "stream",
     "text": [
      "d:\\Interview-Question-Creator-Project\n"
     ]
    },
    {
     "name": "stderr",
     "output_type": "stream",
     "text": [
      "C:\\Users\\faraz\\AppData\\Roaming\\Python\\Python310\\site-packages\\IPython\\core\\magics\\osm.py:417: UserWarning: This is now an optional IPython functionality, setting dhist requires you to install the `pickleshare` library.\n",
      "  self.shell.db['dhist'] = compress_dhist(dhist)[-100:]\n"
     ]
    }
   ],
   "source": [
    "%cd .."
   ]
  },
  {
   "cell_type": "code",
   "execution_count": 15,
   "metadata": {},
   "outputs": [
    {
     "data": {
      "text/plain": [
       "'d:\\\\Interview-Question-Creator-Project'"
      ]
     },
     "execution_count": 15,
     "metadata": {},
     "output_type": "execute_result"
    }
   ],
   "source": [
    "%pwd"
   ]
  },
  {
   "cell_type": "code",
   "execution_count": 62,
   "metadata": {},
   "outputs": [],
   "source": [
    "file_path = \"data\\stats.pdf\" \n",
    "loader = PyPDFLoader(file_path)\n",
    "data = loader.load()"
   ]
  },
  {
   "cell_type": "code",
   "execution_count": 63,
   "metadata": {},
   "outputs": [
    {
     "data": {
      "text/plain": [
       "[Document(metadata={'source': 'data\\\\stats.pdf', 'page': 0}, page_content='ImportanceandtheuseofcorrelationinStatistics\\nIntroduction\\nCorrelationisastatistical measurethat expressestheextent towhichtwovariablesarelinearlyrelated. It isacommontool fordescribingsimplerelationshipswithout makingastatement about causeandeffect.Correlationcoefficientsrangefrom-1to1, withavalueof 0indicatingnolinearrelationshipbetweenthetwovariables, avalueof 1indicatingaperfect positivelinearrelationship, andavalueof -1indicatingaperfectnegativelinearrelationship.\\nCorrelationisimportantinstatisticsbecauseitcanbeusedto\\n1. Identifyrelationshipsbetweenvariables:Correlationcanbeusedtoidentifywhetherthereisarelationshipbetweentwovariables, andif so, whethertherelationshipispositiveornegative. Thisinformationcanbeuseful forunderstandingtherelationshipsbetweendifferent factorsinacomplexsystem.\\n2. Makepredictions:If thereisastrongcorrelationbetweentwovariables, it ispossibletousethevalueof onevariabletopredictthevalueof theothervariable. Thiscanbeuseful formakingpredictionsinavarietyof fields, suchasbusiness, finance, andmedicine.\\n3. Developcausalmodels:Correlationcanbeusedasastartingpoint fordevelopingcausal models, whicharemodelsthatdescribehowchangesinonevariablecausechangesinothervariables. Causal modelscanbeusedtomakemoreaccuratepredictionsandtodevelopinterventionstochangethevaluesofspecificvariables.'),\n",
       " Document(metadata={'source': 'data\\\\stats.pdf', 'page': 1}, page_content='Correlationisusedinawidevarietyoffieldsincluding\\n1. Business:Correlationcanbeusedtoidentifyrelationshipsbetweendifferent businessvariables, suchassales, advertisingspending, andcustomersatisfaction. Thisinformationcanbeusedtomakebetterbusinessdecisions, suchashowtoallocatemarketingresources.\\n2. Finance:Correlationcanbeusedtoidentifyrelationshipsbetweendifferent financial assets, suchasstocks, bonds, andcommodities.Thisinformationcanbeusedtobuilddiversifiedportfoliosthatreducerisk.\\n3. Medicine:Correlationcanbeusedtoidentifyrelationshipsbetweendifferent medical variables, suchasriskfactorsfordiseasesandtheeffectivenessof treatments. Thisinformationcanbeusedtoimprovetheprevention, diagnosis, andtreatment ofdiseases.\\n4. Psychology:Correlationcanbeusedtoidentifyrelationshipsbetweendifferent psychological variables, suchaspersonalitytraits, cognitiveabilities, andmental disorders. Thisinformationcanbeusedtodevelopbetterpsychological assessmentsandtreatments.\\nHowcorrelationisusedintherealworld\\n1. Amarketingmanagermight usecorrelationtoidentifytherelationshipbetweenadvertisingspendingandsales. Thisinformationcouldbeusedtodecidehowmuchmoneytoallocatetoadvertising.\\n2. Afinancial analyst might usecorrelationtoidentifytherelationshipbetweenthereturnsof different stocks. Thisinformationcouldbe'),\n",
       " Document(metadata={'source': 'data\\\\stats.pdf', 'page': 2}, page_content='usedtobuildaportfolioof stocksthat isdiversifiedandhasaloweroverall risk.\\n3. Amedical researchermight usecorrelationtoidentifytherelationshipbetweensmokingandlungcancer. Thisinformationcouldbeusedtodeveloppublichealthcampaignstodiscouragesmoking.\\n4. Apsychologist might usecorrelationtoidentifytherelationshipbetweenanxietyanddepression. Thisinformationcouldbeusedtodevelopmoreeffectivetreatmentsforanxietyanddepression.\\nConclusion\\nItisimportanttonotethatcorrelationdoesnotequalcausation.Justbecausetwovariablesarecorrelateddoesnotmeanthatonevariablecausestheother. Forexample,thereisastrongcorrelationbetweenicecreamsalesandsharkattacks.However, thisdoesnotmeanthateatingicecreamcausessharkattacks.Instead,thereislikelyathirdvariable,suchashotweather, thatcausesbothicecreamsalesandsharkattackstoincrease.\\nOverall,correlationisapowerfulstatisticaltoolthatcanbeusedtoidentifyrelationshipsbetweenvariables,makepredictions,anddevelopcausalmodels.Itisusedinawidevarietyoffieldstomakebetterdecisionsandimproveoutcomes.')]"
      ]
     },
     "execution_count": 63,
     "metadata": {},
     "output_type": "execute_result"
    }
   ],
   "source": [
    "data"
   ]
  },
  {
   "cell_type": "code",
   "execution_count": 64,
   "metadata": {},
   "outputs": [
    {
     "data": {
      "text/plain": [
       "3"
      ]
     },
     "execution_count": 64,
     "metadata": {},
     "output_type": "execute_result"
    }
   ],
   "source": [
    "len(data)"
   ]
  },
  {
   "cell_type": "code",
   "execution_count": 65,
   "metadata": {},
   "outputs": [],
   "source": [
    "question_gen = \"\"\n",
    "\n",
    "for page in data:\n",
    "    question_gen += page.page_content"
   ]
  },
  {
   "cell_type": "code",
   "execution_count": 66,
   "metadata": {},
   "outputs": [
    {
     "name": "stdout",
     "output_type": "stream",
     "text": [
      "ImportanceandtheuseofcorrelationinStatistics\n",
      "Introduction\n",
      "Correlationisastatistical measurethat expressestheextent towhichtwovariablesarelinearlyrelated. It isacommontool fordescribingsimplerelationshipswithout makingastatement about causeandeffect.Correlationcoefficientsrangefrom-1to1, withavalueof 0indicatingnolinearrelationshipbetweenthetwovariables, avalueof 1indicatingaperfect positivelinearrelationship, andavalueof -1indicatingaperfectnegativelinearrelationship.\n",
      "Correlationisimportantinstatisticsbecauseitcanbeusedto\n",
      "1. Identifyrelationshipsbetweenvariables:Correlationcanbeusedtoidentifywhetherthereisarelationshipbetweentwovariables, andif so, whethertherelationshipispositiveornegative. Thisinformationcanbeuseful forunderstandingtherelationshipsbetweendifferent factorsinacomplexsystem.\n",
      "2. Makepredictions:If thereisastrongcorrelationbetweentwovariables, it ispossibletousethevalueof onevariabletopredictthevalueof theothervariable. Thiscanbeuseful formakingpredictionsinavarietyof fields, suchasbusiness, finance, andmedicine.\n",
      "3. Developcausalmodels:Correlationcanbeusedasastartingpoint fordevelopingcausal models, whicharemodelsthatdescribehowchangesinonevariablecausechangesinothervariables. Causal modelscanbeusedtomakemoreaccuratepredictionsandtodevelopinterventionstochangethevaluesofspecificvariables.Correlationisusedinawidevarietyoffieldsincluding\n",
      "1. Business:Correlationcanbeusedtoidentifyrelationshipsbetweendifferent businessvariables, suchassales, advertisingspending, andcustomersatisfaction. Thisinformationcanbeusedtomakebetterbusinessdecisions, suchashowtoallocatemarketingresources.\n",
      "2. Finance:Correlationcanbeusedtoidentifyrelationshipsbetweendifferent financial assets, suchasstocks, bonds, andcommodities.Thisinformationcanbeusedtobuilddiversifiedportfoliosthatreducerisk.\n",
      "3. Medicine:Correlationcanbeusedtoidentifyrelationshipsbetweendifferent medical variables, suchasriskfactorsfordiseasesandtheeffectivenessof treatments. Thisinformationcanbeusedtoimprovetheprevention, diagnosis, andtreatment ofdiseases.\n",
      "4. Psychology:Correlationcanbeusedtoidentifyrelationshipsbetweendifferent psychological variables, suchaspersonalitytraits, cognitiveabilities, andmental disorders. Thisinformationcanbeusedtodevelopbetterpsychological assessmentsandtreatments.\n",
      "Howcorrelationisusedintherealworld\n",
      "1. Amarketingmanagermight usecorrelationtoidentifytherelationshipbetweenadvertisingspendingandsales. Thisinformationcouldbeusedtodecidehowmuchmoneytoallocatetoadvertising.\n",
      "2. Afinancial analyst might usecorrelationtoidentifytherelationshipbetweenthereturnsof different stocks. Thisinformationcouldbeusedtobuildaportfolioof stocksthat isdiversifiedandhasaloweroverall risk.\n",
      "3. Amedical researchermight usecorrelationtoidentifytherelationshipbetweensmokingandlungcancer. Thisinformationcouldbeusedtodeveloppublichealthcampaignstodiscouragesmoking.\n",
      "4. Apsychologist might usecorrelationtoidentifytherelationshipbetweenanxietyanddepression. Thisinformationcouldbeusedtodevelopmoreeffectivetreatmentsforanxietyanddepression.\n",
      "Conclusion\n",
      "Itisimportanttonotethatcorrelationdoesnotequalcausation.Justbecausetwovariablesarecorrelateddoesnotmeanthatonevariablecausestheother. Forexample,thereisastrongcorrelationbetweenicecreamsalesandsharkattacks.However, thisdoesnotmeanthateatingicecreamcausessharkattacks.Instead,thereislikelyathirdvariable,suchashotweather, thatcausesbothicecreamsalesandsharkattackstoincrease.\n",
      "Overall,correlationisapowerfulstatisticaltoolthatcanbeusedtoidentifyrelationshipsbetweenvariables,makepredictions,anddevelopcausalmodels.Itisusedinawidevarietyoffieldstomakebetterdecisionsandimproveoutcomes.\n"
     ]
    }
   ],
   "source": [
    "print(question_gen)"
   ]
  },
  {
   "cell_type": "code",
   "execution_count": 67,
   "metadata": {},
   "outputs": [],
   "source": [
    "from langchain.text_splitter import TokenTextSplitter"
   ]
  },
  {
   "cell_type": "code",
   "execution_count": 68,
   "metadata": {},
   "outputs": [],
   "source": [
    "from langchain.text_splitter import TokenTextSplitter\n",
    "\n",
    "# Set the correct tokenizer explicitly\n",
    "splitter_ques_gen = TokenTextSplitter(\n",
    "    encoding_name=\"cl100k_base\",  # Use a generic tokenizer\n",
    "    chunk_size=10000,\n",
    "    chunk_overlap=200\n",
    ")"
   ]
  },
  {
   "cell_type": "code",
   "execution_count": 69,
   "metadata": {},
   "outputs": [],
   "source": [
    "chunk_ques_gen = splitter_ques_gen.split_text(question_gen)"
   ]
  },
  {
   "cell_type": "code",
   "execution_count": 70,
   "metadata": {},
   "outputs": [
    {
     "data": {
      "text/plain": [
       "1"
      ]
     },
     "execution_count": 70,
     "metadata": {},
     "output_type": "execute_result"
    }
   ],
   "source": [
    "len(chunk_ques_gen)"
   ]
  },
  {
   "cell_type": "code",
   "execution_count": 71,
   "metadata": {},
   "outputs": [
    {
     "name": "stdout",
     "output_type": "stream",
     "text": [
      "ImportanceandtheuseofcorrelationinStatistics\n",
      "Introduction\n",
      "Correlationisastatistical measurethat expressestheextent towhichtwovariablesarelinearlyrelated. It isacommontool fordescribingsimplerelationshipswithout makingastatement about causeandeffect.Correlationcoefficientsrangefrom-1to1, withavalueof 0indicatingnolinearrelationshipbetweenthetwovariables, avalueof 1indicatingaperfect positivelinearrelationship, andavalueof -1indicatingaperfectnegativelinearrelationship.\n",
      "Correlationisimportantinstatisticsbecauseitcanbeusedto\n",
      "1. Identifyrelationshipsbetweenvariables:Correlationcanbeusedtoidentifywhetherthereisarelationshipbetweentwovariables, andif so, whethertherelationshipispositiveornegative. Thisinformationcanbeuseful forunderstandingtherelationshipsbetweendifferent factorsinacomplexsystem.\n",
      "2. Makepredictions:If thereisastrongcorrelationbetweentwovariables, it ispossibletousethevalueof onevariabletopredictthevalueof theothervariable. Thiscanbeuseful formakingpredictionsinavarietyof fields, suchasbusiness, finance, andmedicine.\n",
      "3. Developcausalmodels:Correlationcanbeusedasastartingpoint fordevelopingcausal models, whicharemodelsthatdescribehowchangesinonevariablecausechangesinothervariables. Causal modelscanbeusedtomakemoreaccuratepredictionsandtodevelopinterventionstochangethevaluesofspecificvariables.Correlationisusedinawidevarietyoffieldsincluding\n",
      "1. Business:Correlationcanbeusedtoidentifyrelationshipsbetweendifferent businessvariables, suchassales, advertisingspending, andcustomersatisfaction. Thisinformationcanbeusedtomakebetterbusinessdecisions, suchashowtoallocatemarketingresources.\n",
      "2. Finance:Correlationcanbeusedtoidentifyrelationshipsbetweendifferent financial assets, suchasstocks, bonds, andcommodities.Thisinformationcanbeusedtobuilddiversifiedportfoliosthatreducerisk.\n",
      "3. Medicine:Correlationcanbeusedtoidentifyrelationshipsbetweendifferent medical variables, suchasriskfactorsfordiseasesandtheeffectivenessof treatments. Thisinformationcanbeusedtoimprovetheprevention, diagnosis, andtreatment ofdiseases.\n",
      "4. Psychology:Correlationcanbeusedtoidentifyrelationshipsbetweendifferent psychological variables, suchaspersonalitytraits, cognitiveabilities, andmental disorders. Thisinformationcanbeusedtodevelopbetterpsychological assessmentsandtreatments.\n",
      "Howcorrelationisusedintherealworld\n",
      "1. Amarketingmanagermight usecorrelationtoidentifytherelationshipbetweenadvertisingspendingandsales. Thisinformationcouldbeusedtodecidehowmuchmoneytoallocatetoadvertising.\n",
      "2. Afinancial analyst might usecorrelationtoidentifytherelationshipbetweenthereturnsof different stocks. Thisinformationcouldbeusedtobuildaportfolioof stocksthat isdiversifiedandhasaloweroverall risk.\n",
      "3. Amedical researchermight usecorrelationtoidentifytherelationshipbetweensmokingandlungcancer. Thisinformationcouldbeusedtodeveloppublichealthcampaignstodiscouragesmoking.\n",
      "4. Apsychologist might usecorrelationtoidentifytherelationshipbetweenanxietyanddepression. Thisinformationcouldbeusedtodevelopmoreeffectivetreatmentsforanxietyanddepression.\n",
      "Conclusion\n",
      "Itisimportanttonotethatcorrelationdoesnotequalcausation.Justbecausetwovariablesarecorrelateddoesnotmeanthatonevariablecausestheother. Forexample,thereisastrongcorrelationbetweenicecreamsalesandsharkattacks.However, thisdoesnotmeanthateatingicecreamcausessharkattacks.Instead,thereislikelyathirdvariable,suchashotweather, thatcausesbothicecreamsalesandsharkattackstoincrease.\n",
      "Overall,correlationisapowerfulstatisticaltoolthatcanbeusedtoidentifyrelationshipsbetweenvariables,makepredictions,anddevelopcausalmodels.Itisusedinawidevarietyoffieldstomakebetterdecisionsandimproveoutcomes.\n"
     ]
    }
   ],
   "source": [
    "print(chunk_ques_gen[0])"
   ]
  },
  {
   "cell_type": "code",
   "execution_count": 72,
   "metadata": {},
   "outputs": [],
   "source": [
    "from langchain.docstore.document import Document"
   ]
  },
  {
   "cell_type": "code",
   "execution_count": 73,
   "metadata": {},
   "outputs": [],
   "source": [
    "document_ques_gen = [Document(page_content = t) for t in chunk_ques_gen]"
   ]
  },
  {
   "cell_type": "code",
   "execution_count": 74,
   "metadata": {},
   "outputs": [
    {
     "name": "stdout",
     "output_type": "stream",
     "text": [
      "[Document(metadata={}, page_content='ImportanceandtheuseofcorrelationinStatistics\\nIntroduction\\nCorrelationisastatistical measurethat expressestheextent towhichtwovariablesarelinearlyrelated. It isacommontool fordescribingsimplerelationshipswithout makingastatement about causeandeffect.Correlationcoefficientsrangefrom-1to1, withavalueof 0indicatingnolinearrelationshipbetweenthetwovariables, avalueof 1indicatingaperfect positivelinearrelationship, andavalueof -1indicatingaperfectnegativelinearrelationship.\\nCorrelationisimportantinstatisticsbecauseitcanbeusedto\\n1. Identifyrelationshipsbetweenvariables:Correlationcanbeusedtoidentifywhetherthereisarelationshipbetweentwovariables, andif so, whethertherelationshipispositiveornegative. Thisinformationcanbeuseful forunderstandingtherelationshipsbetweendifferent factorsinacomplexsystem.\\n2. Makepredictions:If thereisastrongcorrelationbetweentwovariables, it ispossibletousethevalueof onevariabletopredictthevalueof theothervariable. Thiscanbeuseful formakingpredictionsinavarietyof fields, suchasbusiness, finance, andmedicine.\\n3. Developcausalmodels:Correlationcanbeusedasastartingpoint fordevelopingcausal models, whicharemodelsthatdescribehowchangesinonevariablecausechangesinothervariables. Causal modelscanbeusedtomakemoreaccuratepredictionsandtodevelopinterventionstochangethevaluesofspecificvariables.Correlationisusedinawidevarietyoffieldsincluding\\n1. Business:Correlationcanbeusedtoidentifyrelationshipsbetweendifferent businessvariables, suchassales, advertisingspending, andcustomersatisfaction. Thisinformationcanbeusedtomakebetterbusinessdecisions, suchashowtoallocatemarketingresources.\\n2. Finance:Correlationcanbeusedtoidentifyrelationshipsbetweendifferent financial assets, suchasstocks, bonds, andcommodities.Thisinformationcanbeusedtobuilddiversifiedportfoliosthatreducerisk.\\n3. Medicine:Correlationcanbeusedtoidentifyrelationshipsbetweendifferent medical variables, suchasriskfactorsfordiseasesandtheeffectivenessof treatments. Thisinformationcanbeusedtoimprovetheprevention, diagnosis, andtreatment ofdiseases.\\n4. Psychology:Correlationcanbeusedtoidentifyrelationshipsbetweendifferent psychological variables, suchaspersonalitytraits, cognitiveabilities, andmental disorders. Thisinformationcanbeusedtodevelopbetterpsychological assessmentsandtreatments.\\nHowcorrelationisusedintherealworld\\n1. Amarketingmanagermight usecorrelationtoidentifytherelationshipbetweenadvertisingspendingandsales. Thisinformationcouldbeusedtodecidehowmuchmoneytoallocatetoadvertising.\\n2. Afinancial analyst might usecorrelationtoidentifytherelationshipbetweenthereturnsof different stocks. Thisinformationcouldbeusedtobuildaportfolioof stocksthat isdiversifiedandhasaloweroverall risk.\\n3. Amedical researchermight usecorrelationtoidentifytherelationshipbetweensmokingandlungcancer. Thisinformationcouldbeusedtodeveloppublichealthcampaignstodiscouragesmoking.\\n4. Apsychologist might usecorrelationtoidentifytherelationshipbetweenanxietyanddepression. Thisinformationcouldbeusedtodevelopmoreeffectivetreatmentsforanxietyanddepression.\\nConclusion\\nItisimportanttonotethatcorrelationdoesnotequalcausation.Justbecausetwovariablesarecorrelateddoesnotmeanthatonevariablecausestheother. Forexample,thereisastrongcorrelationbetweenicecreamsalesandsharkattacks.However, thisdoesnotmeanthateatingicecreamcausessharkattacks.Instead,thereislikelyathirdvariable,suchashotweather, thatcausesbothicecreamsalesandsharkattackstoincrease.\\nOverall,correlationisapowerfulstatisticaltoolthatcanbeusedtoidentifyrelationshipsbetweenvariables,makepredictions,anddevelopcausalmodels.Itisusedinawidevarietyoffieldstomakebetterdecisionsandimproveoutcomes.')]\n"
     ]
    }
   ],
   "source": [
    "print(document_ques_gen)"
   ]
  },
  {
   "cell_type": "code",
   "execution_count": 75,
   "metadata": {},
   "outputs": [],
   "source": [
    "splitter_ans_gen = TokenTextSplitter(\n",
    "   encoding_name=\"cl100k_base\",\n",
    "    chunk_size = 1000,\n",
    "    chunk_overlap = 100\n",
    ")"
   ]
  },
  {
   "cell_type": "code",
   "execution_count": 76,
   "metadata": {},
   "outputs": [],
   "source": [
    "document_answer_gen = splitter_ans_gen.split_documents(\n",
    "    document_ques_gen\n",
    ")"
   ]
  },
  {
   "cell_type": "code",
   "execution_count": 77,
   "metadata": {},
   "outputs": [
    {
     "name": "stdout",
     "output_type": "stream",
     "text": [
      "[Document(metadata={}, page_content='ImportanceandtheuseofcorrelationinStatistics\\nIntroduction\\nCorrelationisastatistical measurethat expressestheextent towhichtwovariablesarelinearlyrelated. It isacommontool fordescribingsimplerelationshipswithout makingastatement about causeandeffect.Correlationcoefficientsrangefrom-1to1, withavalueof 0indicatingnolinearrelationshipbetweenthetwovariables, avalueof 1indicatingaperfect positivelinearrelationship, andavalueof -1indicatingaperfectnegativelinearrelationship.\\nCorrelationisimportantinstatisticsbecauseitcanbeusedto\\n1. Identifyrelationshipsbetweenvariables:Correlationcanbeusedtoidentifywhetherthereisarelationshipbetweentwovariables, andif so, whethertherelationshipispositiveornegative. Thisinformationcanbeuseful forunderstandingtherelationshipsbetweendifferent factorsinacomplexsystem.\\n2. Makepredictions:If thereisastrongcorrelationbetweentwovariables, it ispossibletousethevalueof onevariabletopredictthevalueof theothervariable. Thiscanbeuseful formakingpredictionsinavarietyof fields, suchasbusiness, finance, andmedicine.\\n3. Developcausalmodels:Correlationcanbeusedasastartingpoint fordevelopingcausal models, whicharemodelsthatdescribehowchangesinonevariablecausechangesinothervariables. Causal modelscanbeusedtomakemoreaccuratepredictionsandtodevelopinterventionstochangethevaluesofspecificvariables.Correlationisusedinawidevarietyoffieldsincluding\\n1. Business:Correlationcanbeusedtoidentifyrelationshipsbetweendifferent businessvariables, suchassales, advertisingspending, andcustomersatisfaction. Thisinformationcanbeusedtomakebetterbusinessdecisions, suchashowtoallocatemarketingresources.\\n2. Finance:Correlationcanbeusedtoidentifyrelationshipsbetweendifferent financial assets, suchasstocks, bonds, andcommodities.Thisinformationcanbeusedtobuilddiversifiedportfoliosthatreducerisk.\\n3. Medicine:Correlationcanbeusedtoidentifyrelationshipsbetweendifferent medical variables, suchasriskfactorsfordiseasesandtheeffectivenessof treatments. Thisinformationcanbeusedtoimprovetheprevention, diagnosis, andtreatment ofdiseases.\\n4. Psychology:Correlationcanbeusedtoidentifyrelationshipsbetweendifferent psychological variables, suchaspersonalitytraits, cognitiveabilities, andmental disorders. Thisinformationcanbeusedtodevelopbetterpsychological assessmentsandtreatments.\\nHowcorrelationisusedintherealworld\\n1. Amarketingmanagermight usecorrelationtoidentifytherelationshipbetweenadvertisingspendingandsales. Thisinformationcouldbeusedtodecidehowmuchmoneytoallocatetoadvertising.\\n2. Afinancial analyst might usecorrelationtoidentifytherelationshipbetweenthereturnsof different stocks. Thisinformationcouldbeusedtobuildaportfolioof stocksthat isdiversifiedandhasaloweroverall risk.\\n3. Amedical researchermight usecorrelationtoidentifytherelationshipbetweensmokingandlungcancer. Thisinformationcouldbeusedtodeveloppublichealthcampaignstodiscouragesmoking.\\n4. Apsychologist might usecorrelationtoidentifytherelationshipbetweenanxietyanddepression. Thisinformationcouldbeusedtodevelopmoreeffectivetreatmentsforanxietyanddepression.\\nConclusion\\nItisimportanttonotethatcorrelationdoesnotequalcausation.Justbecausetwovariablesarecorrelateddoesnotmeanthatonevariablecausestheother. Forexample,thereisastrongcorrelationbetweenicecreamsalesandsharkattacks.However, thisdoesnotmeanthateatingicecreamcausessharkattacks.Instead,thereislikelyathirdvariable,suchashotweather, thatcausesbothicecreamsalesandsharkattackstoincrease.\\nOverall,correlationisapowerfulstatisticaltoolthatcanbeusedtoidentifyrelationshipsbetweenvariables,makepredictions,anddevelopcausalmodels.Itisusedinawidevarietyoffieldstomakebetterdecisionsandimproveoutcomes.')]\n"
     ]
    }
   ],
   "source": [
    "print(document_answer_gen)"
   ]
  },
  {
   "cell_type": "code",
   "execution_count": 78,
   "metadata": {},
   "outputs": [
    {
     "data": {
      "text/plain": [
       "1"
      ]
     },
     "execution_count": 78,
     "metadata": {},
     "output_type": "execute_result"
    }
   ],
   "source": [
    "len(document_answer_gen)"
   ]
  },
  {
   "cell_type": "code",
   "execution_count": 79,
   "metadata": {},
   "outputs": [],
   "source": [
    "from langchain_groq import ChatGroq"
   ]
  },
  {
   "cell_type": "code",
   "execution_count": null,
   "metadata": {},
   "outputs": [],
   "source": []
  },
  {
   "cell_type": "code",
   "execution_count": 80,
   "metadata": {},
   "outputs": [],
   "source": [
    "llm_ques_gen_pipeline = ChatGroq(\n",
    "    model=\"llama3-70b-8192\",\n",
    "    temperature=0.3\n",
    ")"
   ]
  },
  {
   "cell_type": "code",
   "execution_count": 81,
   "metadata": {},
   "outputs": [],
   "source": [
    "prompt_template = \"\"\"\n",
    "You are an expert at creating questions based on coding materials and documentation.\n",
    "Your goal is to prepare a coder or programmer for their exam and coding tests.\n",
    "You do this by asking questions about the text below:\n",
    "\n",
    "------------\n",
    "{text}\n",
    "------------\n",
    "\n",
    "Create questions that will prepare the coders or programmers for their tests.\n",
    "Make sure not to lose any important information.\n",
    "\n",
    "QUESTIONS:\n",
    "\"\"\""
   ]
  },
  {
   "cell_type": "code",
   "execution_count": 82,
   "metadata": {},
   "outputs": [],
   "source": [
    "from langchain.prompts import PromptTemplate"
   ]
  },
  {
   "cell_type": "code",
   "execution_count": 83,
   "metadata": {},
   "outputs": [],
   "source": [
    "PROMPT_QUESTIONS = PromptTemplate(template=prompt_template, input_variables=['text'])"
   ]
  },
  {
   "cell_type": "code",
   "execution_count": 84,
   "metadata": {},
   "outputs": [],
   "source": [
    "refine_template = (\"\"\"\n",
    "You are an expert at creating practice questions based on coding material and documentation.\n",
    "Your goal is to help a coder or programmer prepare for a coding test.\n",
    "We have received some practice questions to a certain extent: {existing_answer}.\n",
    "We have the option to refine the existing questions or add new ones.\n",
    "(only if necessary) with some more context below.\n",
    "------------\n",
    "{text}\n",
    "------------\n",
    "\n",
    "Given the new context, refine the original questions in English.\n",
    "If the context is not helpful, please provide the original questions.\n",
    "QUESTIONS:\n",
    "\"\"\"\n",
    ")"
   ]
  },
  {
   "cell_type": "code",
   "execution_count": 85,
   "metadata": {},
   "outputs": [],
   "source": [
    "REFINE_PROMPT_QUESTIONS = PromptTemplate(\n",
    "    input_variables=[\"existing_answer\", \"text\"],\n",
    "    template=refine_template,\n",
    ")"
   ]
  },
  {
   "cell_type": "code",
   "execution_count": 86,
   "metadata": {},
   "outputs": [],
   "source": [
    "from langchain.chains.summarize import load_summarize_chain"
   ]
  },
  {
   "cell_type": "code",
   "execution_count": 87,
   "metadata": {},
   "outputs": [],
   "source": [
    "ques_gen_chain = load_summarize_chain(llm = llm_ques_gen_pipeline, \n",
    "                                          chain_type = \"refine\", \n",
    "                                          verbose = True, \n",
    "                                          question_prompt=PROMPT_QUESTIONS, \n",
    "                                          refine_prompt=REFINE_PROMPT_QUESTIONS)"
   ]
  },
  {
   "cell_type": "code",
   "execution_count": 88,
   "metadata": {},
   "outputs": [
    {
     "name": "stdout",
     "output_type": "stream",
     "text": [
      "\n",
      "\n",
      "\u001b[1m> Entering new RefineDocumentsChain chain...\u001b[0m\n",
      "\n",
      "\n",
      "\u001b[1m> Entering new LLMChain chain...\u001b[0m\n",
      "Prompt after formatting:\n",
      "\u001b[32;1m\u001b[1;3m\n",
      "You are an expert at creating questions based on coding materials and documentation.\n",
      "Your goal is to prepare a coder or programmer for their exam and coding tests.\n",
      "You do this by asking questions about the text below:\n",
      "\n",
      "------------\n",
      "ImportanceandtheuseofcorrelationinStatistics\n",
      "Introduction\n",
      "Correlationisastatistical measurethat expressestheextent towhichtwovariablesarelinearlyrelated. It isacommontool fordescribingsimplerelationshipswithout makingastatement about causeandeffect.Correlationcoefficientsrangefrom-1to1, withavalueof 0indicatingnolinearrelationshipbetweenthetwovariables, avalueof 1indicatingaperfect positivelinearrelationship, andavalueof -1indicatingaperfectnegativelinearrelationship.\n",
      "Correlationisimportantinstatisticsbecauseitcanbeusedto\n",
      "1. Identifyrelationshipsbetweenvariables:Correlationcanbeusedtoidentifywhetherthereisarelationshipbetweentwovariables, andif so, whethertherelationshipispositiveornegative. Thisinformationcanbeuseful forunderstandingtherelationshipsbetweendifferent factorsinacomplexsystem.\n",
      "2. Makepredictions:If thereisastrongcorrelationbetweentwovariables, it ispossibletousethevalueof onevariabletopredictthevalueof theothervariable. Thiscanbeuseful formakingpredictionsinavarietyof fields, suchasbusiness, finance, andmedicine.\n",
      "3. Developcausalmodels:Correlationcanbeusedasastartingpoint fordevelopingcausal models, whicharemodelsthatdescribehowchangesinonevariablecausechangesinothervariables. Causal modelscanbeusedtomakemoreaccuratepredictionsandtodevelopinterventionstochangethevaluesofspecificvariables.Correlationisusedinawidevarietyoffieldsincluding\n",
      "1. Business:Correlationcanbeusedtoidentifyrelationshipsbetweendifferent businessvariables, suchassales, advertisingspending, andcustomersatisfaction. Thisinformationcanbeusedtomakebetterbusinessdecisions, suchashowtoallocatemarketingresources.\n",
      "2. Finance:Correlationcanbeusedtoidentifyrelationshipsbetweendifferent financial assets, suchasstocks, bonds, andcommodities.Thisinformationcanbeusedtobuilddiversifiedportfoliosthatreducerisk.\n",
      "3. Medicine:Correlationcanbeusedtoidentifyrelationshipsbetweendifferent medical variables, suchasriskfactorsfordiseasesandtheeffectivenessof treatments. Thisinformationcanbeusedtoimprovetheprevention, diagnosis, andtreatment ofdiseases.\n",
      "4. Psychology:Correlationcanbeusedtoidentifyrelationshipsbetweendifferent psychological variables, suchaspersonalitytraits, cognitiveabilities, andmental disorders. Thisinformationcanbeusedtodevelopbetterpsychological assessmentsandtreatments.\n",
      "Howcorrelationisusedintherealworld\n",
      "1. Amarketingmanagermight usecorrelationtoidentifytherelationshipbetweenadvertisingspendingandsales. Thisinformationcouldbeusedtodecidehowmuchmoneytoallocatetoadvertising.\n",
      "2. Afinancial analyst might usecorrelationtoidentifytherelationshipbetweenthereturnsof different stocks. Thisinformationcouldbeusedtobuildaportfolioof stocksthat isdiversifiedandhasaloweroverall risk.\n",
      "3. Amedical researchermight usecorrelationtoidentifytherelationshipbetweensmokingandlungcancer. Thisinformationcouldbeusedtodeveloppublichealthcampaignstodiscouragesmoking.\n",
      "4. Apsychologist might usecorrelationtoidentifytherelationshipbetweenanxietyanddepression. Thisinformationcouldbeusedtodevelopmoreeffectivetreatmentsforanxietyanddepression.\n",
      "Conclusion\n",
      "Itisimportanttonotethatcorrelationdoesnotequalcausation.Justbecausetwovariablesarecorrelateddoesnotmeanthatonevariablecausestheother. Forexample,thereisastrongcorrelationbetweenicecreamsalesandsharkattacks.However, thisdoesnotmeanthateatingicecreamcausessharkattacks.Instead,thereislikelyathirdvariable,suchashotweather, thatcausesbothicecreamsalesandsharkattackstoincrease.\n",
      "Overall,correlationisapowerfulstatisticaltoolthatcanbeusedtoidentifyrelationshipsbetweenvariables,makepredictions,anddevelopcausalmodels.Itisusedinawidevarietyoffieldstomakebetterdecisionsandimproveoutcomes.\n",
      "------------\n",
      "\n",
      "Create questions that will prepare the coders or programmers for their tests.\n",
      "Make sure not to lose any important information.\n",
      "\n",
      "QUESTIONS:\n",
      "\u001b[0m\n",
      "\n",
      "\u001b[1m> Finished chain.\u001b[0m\n",
      "\n",
      "\u001b[1m> Finished chain.\u001b[0m\n",
      "Here are some questions based on the provided text to help prepare coders or programmers for their tests:\n",
      "\n",
      "**Section 1: Correlation Basics**\n",
      "\n",
      "1. What is correlation in statistics, and what does it express?\n",
      "a) A causal relationship between two variables\n",
      "b) The extent to which two variables are linearly related\n",
      "c) A statistical measure of causation\n",
      "d) A tool for making predictions\n",
      "\n",
      "Answer: b) The extent to which two variables are linearly related\n",
      "\n",
      "2. What is the range of correlation coefficients, and what do they indicate?\n",
      "a) -1 to 1, with 0 indicating a perfect positive linear relationship\n",
      "b) -1 to 1, with 0 indicating no linear relationship\n",
      "c) 0 to 1, with 1 indicating a perfect negative linear relationship\n",
      "d) 1 to 10, with 10 indicating a strong correlation\n",
      "\n",
      "Answer: b) -1 to 1, with 0 indicating no linear relationship\n",
      "\n",
      "**Section 2: Importance of Correlation**\n",
      "\n",
      "3. What are three main reasons why correlation is important in statistics?\n",
      "a) Identify relationships, make predictions, and develop causal models\n",
      "b) Identify causation, make predictions, and develop statistical models\n",
      "c) Develop causal models, make predictions, and identify relationships\n",
      "d) Identify relationships, develop statistical models, and make predictions\n",
      "\n",
      "Answer: a) Identify relationships, make predictions, and develop causal models\n",
      "\n",
      "4. In which field can correlation be used to identify relationships between business variables, such as sales and advertising spending?\n",
      "a) Finance\n",
      "b) Business\n",
      "c) Medicine\n",
      "d) Psychology\n",
      "\n",
      "Answer: b) Business\n",
      "\n",
      "**Section 3: Real-World Applications**\n",
      "\n",
      "5. A marketing manager might use correlation to identify the relationship between which two variables?\n",
      "a) Advertising spending and sales\n",
      "b) Sales and customer satisfaction\n",
      "c) Advertising spending and customer satisfaction\n",
      "d) Sales and profits\n",
      "\n",
      "Answer: a) Advertising spending and sales\n",
      "\n",
      "6. A medical researcher might use correlation to identify the relationship between which two variables?\n",
      "a) Smoking and lung cancer\n",
      "b) Anxiety and depression\n",
      "c) Ice cream sales and shark attacks\n",
      "d) Hot weather and ice cream sales\n",
      "\n",
      "Answer: a) Smoking and lung cancer\n",
      "\n",
      "**Section 4: Correlation vs. Causation**\n",
      "\n",
      "7. What is an important note to keep in mind when interpreting correlation results?\n",
      "a) Correlation always implies causation\n",
      "b) Correlation never implies causation\n",
      "c) Correlation does not necessarily imply causation\n",
      "d) Correlation is only used in business and finance\n",
      "\n",
      "Answer: c) Correlation does not necessarily imply causation\n",
      "\n",
      "8. What is an example of a spurious correlation mentioned in the text?\n",
      "a) The relationship between smoking and lung cancer\n",
      "b) The relationship between anxiety and depression\n",
      "c) The relationship between ice cream sales and shark attacks\n",
      "d) The relationship between hot weather and ice cream sales\n",
      "\n",
      "Answer: c) The relationship between ice cream sales and shark attacks\n"
     ]
    }
   ],
   "source": [
    "ques = ques_gen_chain.run(document_ques_gen)\n",
    "\n",
    "print(ques)"
   ]
  },
  {
   "cell_type": "code",
   "execution_count": 89,
   "metadata": {},
   "outputs": [],
   "source": [
    "embeddings = CohereEmbeddings(model=\"embed-english-v3.0\")"
   ]
  },
  {
   "cell_type": "code",
   "execution_count": 90,
   "metadata": {},
   "outputs": [],
   "source": [
    "from langchain.vectorstores import FAISS"
   ]
  },
  {
   "cell_type": "code",
   "execution_count": 91,
   "metadata": {},
   "outputs": [],
   "source": [
    "vector_store = FAISS.from_documents(document_answer_gen, embeddings)"
   ]
  },
  {
   "cell_type": "code",
   "execution_count": 92,
   "metadata": {},
   "outputs": [],
   "source": [
    "llm_answer_gen = ChatGroq(temperature=0.1, model=\"llama3-70b-8192\")"
   ]
  },
  {
   "cell_type": "code",
   "execution_count": 93,
   "metadata": {},
   "outputs": [
    {
     "name": "stdout",
     "output_type": "stream",
     "text": [
      "Here are some questions based on the provided text to help prepare coders or programmers for their tests:\n",
      "\n",
      "**Section 1: Correlation Basics**\n",
      "\n",
      "1. What is correlation in statistics, and what does it express?\n",
      "a) A causal relationship between two variables\n",
      "b) The extent to which two variables are linearly related\n",
      "c) A statistical measure of causation\n",
      "d) A tool for making predictions\n",
      "\n",
      "Answer: b) The extent to which two variables are linearly related\n",
      "\n",
      "2. What is the range of correlation coefficients, and what do they indicate?\n",
      "a) -1 to 1, with 0 indicating a perfect positive linear relationship\n",
      "b) -1 to 1, with 0 indicating no linear relationship\n",
      "c) 0 to 1, with 1 indicating a perfect negative linear relationship\n",
      "d) 1 to 10, with 10 indicating a strong correlation\n",
      "\n",
      "Answer: b) -1 to 1, with 0 indicating no linear relationship\n",
      "\n",
      "**Section 2: Importance of Correlation**\n",
      "\n",
      "3. What are three main reasons why correlation is important in statistics?\n",
      "a) Identify relationships, make predictions, and develop causal models\n",
      "b) Identify causation, make predictions, and develop statistical models\n",
      "c) Develop causal models, make predictions, and identify relationships\n",
      "d) Identify relationships, develop statistical models, and make predictions\n",
      "\n",
      "Answer: a) Identify relationships, make predictions, and develop causal models\n",
      "\n",
      "4. In which field can correlation be used to identify relationships between business variables, such as sales and advertising spending?\n",
      "a) Finance\n",
      "b) Business\n",
      "c) Medicine\n",
      "d) Psychology\n",
      "\n",
      "Answer: b) Business\n",
      "\n",
      "**Section 3: Real-World Applications**\n",
      "\n",
      "5. A marketing manager might use correlation to identify the relationship between which two variables?\n",
      "a) Advertising spending and sales\n",
      "b) Sales and customer satisfaction\n",
      "c) Advertising spending and customer satisfaction\n",
      "d) Sales and profits\n",
      "\n",
      "Answer: a) Advertising spending and sales\n",
      "\n",
      "6. A medical researcher might use correlation to identify the relationship between which two variables?\n",
      "a) Smoking and lung cancer\n",
      "b) Anxiety and depression\n",
      "c) Ice cream sales and shark attacks\n",
      "d) Hot weather and ice cream sales\n",
      "\n",
      "Answer: a) Smoking and lung cancer\n",
      "\n",
      "**Section 4: Correlation vs. Causation**\n",
      "\n",
      "7. What is an important note to keep in mind when interpreting correlation results?\n",
      "a) Correlation always implies causation\n",
      "b) Correlation never implies causation\n",
      "c) Correlation does not necessarily imply causation\n",
      "d) Correlation is only used in business and finance\n",
      "\n",
      "Answer: c) Correlation does not necessarily imply causation\n",
      "\n",
      "8. What is an example of a spurious correlation mentioned in the text?\n",
      "a) The relationship between smoking and lung cancer\n",
      "b) The relationship between anxiety and depression\n",
      "c) The relationship between ice cream sales and shark attacks\n",
      "d) The relationship between hot weather and ice cream sales\n",
      "\n",
      "Answer: c) The relationship between ice cream sales and shark attacks\n"
     ]
    }
   ],
   "source": [
    "print(ques)"
   ]
  },
  {
   "cell_type": "code",
   "execution_count": 94,
   "metadata": {},
   "outputs": [],
   "source": [
    "ques_list = ques.split(\"\\n\")"
   ]
  },
  {
   "cell_type": "code",
   "execution_count": 95,
   "metadata": {},
   "outputs": [
    {
     "data": {
      "text/plain": [
       "['Here are some questions based on the provided text to help prepare coders or programmers for their tests:',\n",
       " '',\n",
       " '**Section 1: Correlation Basics**',\n",
       " '',\n",
       " '1. What is correlation in statistics, and what does it express?',\n",
       " 'a) A causal relationship between two variables',\n",
       " 'b) The extent to which two variables are linearly related',\n",
       " 'c) A statistical measure of causation',\n",
       " 'd) A tool for making predictions',\n",
       " '',\n",
       " 'Answer: b) The extent to which two variables are linearly related',\n",
       " '',\n",
       " '2. What is the range of correlation coefficients, and what do they indicate?',\n",
       " 'a) -1 to 1, with 0 indicating a perfect positive linear relationship',\n",
       " 'b) -1 to 1, with 0 indicating no linear relationship',\n",
       " 'c) 0 to 1, with 1 indicating a perfect negative linear relationship',\n",
       " 'd) 1 to 10, with 10 indicating a strong correlation',\n",
       " '',\n",
       " 'Answer: b) -1 to 1, with 0 indicating no linear relationship',\n",
       " '',\n",
       " '**Section 2: Importance of Correlation**',\n",
       " '',\n",
       " '3. What are three main reasons why correlation is important in statistics?',\n",
       " 'a) Identify relationships, make predictions, and develop causal models',\n",
       " 'b) Identify causation, make predictions, and develop statistical models',\n",
       " 'c) Develop causal models, make predictions, and identify relationships',\n",
       " 'd) Identify relationships, develop statistical models, and make predictions',\n",
       " '',\n",
       " 'Answer: a) Identify relationships, make predictions, and develop causal models',\n",
       " '',\n",
       " '4. In which field can correlation be used to identify relationships between business variables, such as sales and advertising spending?',\n",
       " 'a) Finance',\n",
       " 'b) Business',\n",
       " 'c) Medicine',\n",
       " 'd) Psychology',\n",
       " '',\n",
       " 'Answer: b) Business',\n",
       " '',\n",
       " '**Section 3: Real-World Applications**',\n",
       " '',\n",
       " '5. A marketing manager might use correlation to identify the relationship between which two variables?',\n",
       " 'a) Advertising spending and sales',\n",
       " 'b) Sales and customer satisfaction',\n",
       " 'c) Advertising spending and customer satisfaction',\n",
       " 'd) Sales and profits',\n",
       " '',\n",
       " 'Answer: a) Advertising spending and sales',\n",
       " '',\n",
       " '6. A medical researcher might use correlation to identify the relationship between which two variables?',\n",
       " 'a) Smoking and lung cancer',\n",
       " 'b) Anxiety and depression',\n",
       " 'c) Ice cream sales and shark attacks',\n",
       " 'd) Hot weather and ice cream sales',\n",
       " '',\n",
       " 'Answer: a) Smoking and lung cancer',\n",
       " '',\n",
       " '**Section 4: Correlation vs. Causation**',\n",
       " '',\n",
       " '7. What is an important note to keep in mind when interpreting correlation results?',\n",
       " 'a) Correlation always implies causation',\n",
       " 'b) Correlation never implies causation',\n",
       " 'c) Correlation does not necessarily imply causation',\n",
       " 'd) Correlation is only used in business and finance',\n",
       " '',\n",
       " 'Answer: c) Correlation does not necessarily imply causation',\n",
       " '',\n",
       " '8. What is an example of a spurious correlation mentioned in the text?',\n",
       " 'a) The relationship between smoking and lung cancer',\n",
       " 'b) The relationship between anxiety and depression',\n",
       " 'c) The relationship between ice cream sales and shark attacks',\n",
       " 'd) The relationship between hot weather and ice cream sales',\n",
       " '',\n",
       " 'Answer: c) The relationship between ice cream sales and shark attacks']"
      ]
     },
     "execution_count": 95,
     "metadata": {},
     "output_type": "execute_result"
    }
   ],
   "source": [
    "ques_list"
   ]
  },
  {
   "cell_type": "code",
   "execution_count": 96,
   "metadata": {},
   "outputs": [],
   "source": [
    "from langchain.chains import RetrievalQA"
   ]
  },
  {
   "cell_type": "code",
   "execution_count": 97,
   "metadata": {},
   "outputs": [],
   "source": [
    "answer_generation_chain = RetrievalQA.from_chain_type(llm=llm_answer_gen, \n",
    "                                               chain_type=\"stuff\", \n",
    "                                               retriever=vector_store.as_retriever())"
   ]
  },
  {
   "cell_type": "code",
   "execution_count": 98,
   "metadata": {},
   "outputs": [
    {
     "name": "stdout",
     "output_type": "stream",
     "text": [
      "Question:  Here are some questions based on the provided text to help prepare coders or programmers for their tests:\n",
      "Answer:  I'm ready to help. Go ahead and ask your questions based on the provided text. I'll do my best to answer them.\n",
      "--------------------------------------------------\\n\\n\n",
      "Question:  \n",
      "Answer:  I'm ready to answer your question. Go ahead and ask!\n",
      "--------------------------------------------------\\n\\n\n",
      "Question:  **Section 1: Correlation Basics**\n",
      "Answer:  I'm ready to answer your questions about correlation basics. Go ahead and ask away!\n",
      "--------------------------------------------------\\n\\n\n",
      "Question:  \n",
      "Answer:  I'm ready to answer your question. Go ahead and ask!\n",
      "--------------------------------------------------\\n\\n\n",
      "Question:  1. What is correlation in statistics, and what does it express?\n",
      "Answer:  According to the provided context, correlation in statistics is a measure that expresses the extent to which two variables are linearly related.\n",
      "--------------------------------------------------\\n\\n\n",
      "Question:  a) A causal relationship between two variables\n",
      "Answer:  According to the provided context, correlation does not necessarily imply a causal relationship between two variables. In fact, it is explicitly stated that \"correlation does not equal causation.\" This means that just because two variables are correlated, it does not mean that one variable causes the other. There may be a third variable that is driving the correlation between the two variables.\n",
      "--------------------------------------------------\\n\\n\n",
      "Question:  b) The extent to which two variables are linearly related\n",
      "Answer:  That's correct! According to the text, correlation is a statistical measure that expresses \"the extent to which two variables are linearly related\".\n",
      "--------------------------------------------------\\n\\n\n",
      "Question:  c) A statistical measure of causation\n",
      "Answer:  No, correlation is not a statistical measure of causation. According to the text, \"It is important to note that correlation does not equal causation. Just because two variables are correlated does not mean that one variable causes the other.\" Correlation only measures the extent to which two variables are linearly related, but it does not imply causation.\n",
      "--------------------------------------------------\\n\\n\n",
      "Question:  d) A tool for making predictions\n",
      "Answer:  According to the text, correlation is indeed a tool for making predictions. As stated in point 2 under \"Importance and the use of correlation in Statistics\", \"If there is a strong correlation between two variables, it is possible to use the value of one variable to predict the value of the other variable.\"\n",
      "--------------------------------------------------\\n\\n\n",
      "Question:  \n",
      "Answer:  I'm ready to answer your question. Go ahead and ask!\n",
      "--------------------------------------------------\\n\\n\n",
      "Question:  Answer: b) The extent to which two variables are linearly related\n",
      "Answer:  I think there might be some context missing, but based on the provided text, I can infer that the question is asking about the definition of correlation.\n",
      "\n",
      "According to the text, correlation is defined as \"a statistical measure that expresses the extent to which two variables are linearly related.\"\n",
      "--------------------------------------------------\\n\\n\n",
      "Question:  \n",
      "Answer:  I'm ready to answer your question. Go ahead and ask!\n",
      "--------------------------------------------------\\n\\n\n",
      "Question:  2. What is the range of correlation coefficients, and what do they indicate?\n",
      "Answer:  According to the provided context, correlation coefficients range from -1 to 1, and they indicate the following:\n",
      "\n",
      "* A value of 0 indicates no linear relationship between the two variables.\n",
      "* A value of 1 indicates a perfect positive linear relationship between the two variables.\n",
      "* A value of -1 indicates a perfect negative linear relationship between the two variables.\n",
      "--------------------------------------------------\\n\\n\n",
      "Question:  a) -1 to 1, with 0 indicating a perfect positive linear relationship\n",
      "Answer:  I think there might be a mistake in your statement. According to the text, correlation coefficients range from -1 to 1, but a value of 0 indicates no linear relationship between the two variables, not a perfect positive linear relationship. A value of 1 indicates a perfect positive linear relationship, and a value of -1 indicates a perfect negative linear relationship.\n",
      "--------------------------------------------------\\n\\n\n",
      "Question:  b) -1 to 1, with 0 indicating no linear relationship\n",
      "Answer:  That's correct! According to the text, correlation coefficients range from -1 to 1, with a value of 0 indicating no linear relationship between the two variables.\n",
      "--------------------------------------------------\\n\\n\n",
      "Question:  c) 0 to 1, with 1 indicating a perfect negative linear relationship\n",
      "Answer:  No, that's not correct. According to the text, correlation coefficients range from -1 to 1, with:\n",
      "\n",
      "* 0 indicating no linear relationship between the two variables\n",
      "* 1 indicating a perfect positive linear relationship\n",
      "* -1 indicating a perfect negative linear relationship\n",
      "--------------------------------------------------\\n\\n\n",
      "Question:  d) 1 to 10, with 10 indicating a strong correlation\n",
      "Answer:  I don't think that's correct. According to the text, correlation coefficients range from -1 to 1, with 0 indicating no linear relationship, 1 indicating a perfect positive linear relationship, and -1 indicating a perfect negative linear relationship. There is no mention of a scale from 1 to 10.\n",
      "--------------------------------------------------\\n\\n\n",
      "Question:  \n",
      "Answer:  I'm ready to answer your question. Go ahead and ask!\n",
      "--------------------------------------------------\\n\\n\n",
      "Question:  Answer: b) -1 to 1, with 0 indicating no linear relationship\n",
      "Answer:  It seems like you're asking a question, but you haven't actually asked one. However, I'm going to take a guess that you're asking about the range of correlation coefficients.\n",
      "\n",
      "According to the text, the answer is indeed b) -1 to 1, with 0 indicating no linear relationship. Correlation coefficients range from -1 to 1, where 0 indicates no linear relationship between the two variables, -1 indicates a perfect negative linear relationship, and 1 indicates a perfect positive linear relationship.\n",
      "--------------------------------------------------\\n\\n\n",
      "Question:  \n",
      "Answer:  I'm ready to answer your question. Go ahead and ask away!\n",
      "--------------------------------------------------\\n\\n\n",
      "Question:  **Section 2: Importance of Correlation**\n",
      "Answer:  This section is not labeled as \"Section 2\" in the provided text. However, I assume you are referring to the section that starts with \"Correlation is important in statistics because it can be used to...\".\n",
      "\n",
      "This section explains the importance of correlation in statistics, highlighting three key reasons:\n",
      "\n",
      "1. **Identify relationships between variables**: Correlation helps identify whether there is a relationship between two variables and whether it is positive or negative.\n",
      "2. **Make predictions**: If there is a strong correlation between two variables, it is possible to use the value of one variable to predict the value of the other.\n",
      "3. **Develop causal models**: Correlation can be used as a starting point for developing causal models, which describe how changes in one variable cause changes in other variables.\n",
      "\n",
      "Let me know if you have any specific questions about this section!\n",
      "--------------------------------------------------\\n\\n\n",
      "Question:  \n",
      "Answer:  I'm ready to answer your question. Go ahead and ask!\n",
      "--------------------------------------------------\\n\\n\n",
      "Question:  3. What are three main reasons why correlation is important in statistics?\n",
      "Answer:  According to the text, the three main reasons why correlation is important in statistics are:\n",
      "\n",
      "1. Identify relationships between variables: Correlation can be used to identify whether there is a relationship between two variables, and if so, whether the relationship is positive or negative.\n",
      "2. Make predictions: If there is a strong correlation between two variables, it is possible to use the value of one variable to predict the value of the other variable.\n",
      "3. Develop causal models: Correlation can be used as a starting point for developing causal models, which describe how changes in one variable cause changes in other variables.\n",
      "--------------------------------------------------\\n\\n\n",
      "Question:  a) Identify relationships, make predictions, and develop causal models\n",
      "Answer:  The correct answer is: a) Identify relationships, make predictions, and develop causal models.\n",
      "\n",
      "According to the text, correlation is important in statistics because it can be used to:\n",
      "\n",
      "1. Identify relationships between variables\n",
      "2. Make predictions\n",
      "3. Develop causal models\n",
      "--------------------------------------------------\\n\\n\n",
      "Question:  b) Identify causation, make predictions, and develop statistical models\n",
      "Answer:  According to the provided context, the correct answer is not b) Identify causation, make predictions, and develop statistical models.\n",
      "\n",
      "Correlation can be used to:\n",
      "\n",
      "1. Identify relationships between variables\n",
      "2. Make predictions\n",
      "3. Develop causal models\n",
      "\n",
      "However, correlation does not equal causation. Correlation can be used as a starting point to develop causal models, but it does not directly identify causation.\n",
      "--------------------------------------------------\\n\\n\n",
      "Question:  c) Develop causal models, make predictions, and identify relationships\n",
      "Answer:  The correct answer is: All of the above.\n",
      "\n",
      "According to the text, correlation is important in statistics because it can be used to:\n",
      "\n",
      "1. Identify relationships between variables\n",
      "2. Make predictions\n",
      "3. Develop causal models\n",
      "\n",
      "So, all three options are correct.\n",
      "--------------------------------------------------\\n\\n\n",
      "Question:  d) Identify relationships, develop statistical models, and make predictions\n",
      "Answer:  The correct answer is: d) Identify relationships, make predictions, and develop causal models.\n",
      "\n",
      "According to the text, correlation is important in statistics because it can be used to:\n",
      "\n",
      "1. Identify relationships between variables\n",
      "2. Make predictions\n",
      "3. Develop causal models\n",
      "--------------------------------------------------\\n\\n\n",
      "Question:  \n",
      "Answer:  I'm ready to answer your question. Go ahead and ask!\n",
      "--------------------------------------------------\\n\\n\n",
      "Question:  Answer: a) Identify relationships, make predictions, and develop causal models\n",
      "Answer:  The correct answer is indeed a) Identify relationships, make predictions, and develop causal models. According to the text, correlation is important in statistics because it can be used to:\n",
      "\n",
      "1. Identify relationships between variables\n",
      "2. Make predictions\n",
      "3. Develop causal models\n",
      "--------------------------------------------------\\n\\n\n",
      "Question:  \n",
      "Answer:  I'm ready to answer your question. Go ahead and ask!\n",
      "--------------------------------------------------\\n\\n\n",
      "Question:  4. In which field can correlation be used to identify relationships between business variables, such as sales and advertising spending?\n",
      "Answer:  According to the text, correlation can be used to identify relationships between business variables, such as sales and advertising spending, in the field of Business.\n",
      "--------------------------------------------------\\n\\n\n",
      "Question:  a) Finance\n",
      "Answer:  According to the text, in finance, correlation can be used to identify relationships between different financial assets, such as stocks, bonds, and commodities. This information can be used to build diversified portfolios that reduce risk.\n",
      "--------------------------------------------------\\n\\n\n",
      "Question:  b) Business\n",
      "Answer:  According to the text, in the field of Business, correlation can be used to:\n",
      "\n",
      "* Identify relationships between different business variables, such as sales, advertising spending, and customer satisfaction.\n",
      "* Make better business decisions, such as how to allocate marketing resources.\n",
      "--------------------------------------------------\\n\\n\n",
      "Question:  c) Medicine\n",
      "Answer:  According to the text, in the field of Medicine, correlation is used to:\n",
      "\n",
      "\"identify relationships between different medical variables, such as risk factors for diseases and the effectiveness of treatments. This information can be used to improve the prevention, diagnosis, and treatment of diseases.\"\n",
      "\n",
      "For example, a medical researcher might use correlation to identify the relationship between smoking and lung cancer, and this information could be used to develop public health campaigns to discourage smoking.\n",
      "--------------------------------------------------\\n\\n\n",
      "Question:  d) Psychology\n",
      "Answer:  According to the text, in Psychology, correlation can be used to identify relationships between different psychological variables, such as personality traits, cognitive abilities, and mental disorders. This information can be used to develop better psychological assessments and treatments.\n",
      "--------------------------------------------------\\n\\n\n",
      "Question:  \n",
      "Answer:  I'm ready to answer your question. Go ahead and ask!\n",
      "--------------------------------------------------\\n\\n\n",
      "Question:  Answer: b) Business\n",
      "Answer:  I apologize, but I don't see a question to answer. It seems like you provided a context about correlation in statistics, but there is no question associated with it. If you could provide the question, I'll be happy to help!\n",
      "--------------------------------------------------\\n\\n\n",
      "Question:  \n",
      "Answer:  I'm ready to answer your question. Go ahead and ask!\n",
      "--------------------------------------------------\\n\\n\n",
      "Question:  **Section 3: Real-World Applications**\n",
      "Answer:  This section provides examples of how correlation is used in real-world applications. It mentions four examples:\n",
      "\n",
      "1. A marketing manager uses correlation to identify the relationship between advertising spending and sales, which helps decide how much money to allocate to advertising.\n",
      "2. A financial analyst uses correlation to identify the relationship between the returns of different stocks, which helps build a diversified portfolio with lower overall risk.\n",
      "3. A medical researcher uses correlation to identify the relationship between smoking and lung cancer, which helps develop public health campaigns to discourage smoking.\n",
      "4. A psychologist uses correlation to identify the relationship between anxiety and depression, which helps develop more effective treatments for anxiety and depression.\n",
      "--------------------------------------------------\\n\\n\n",
      "Question:  \n",
      "Answer:  I'm ready to answer your question. Go ahead and ask!\n",
      "--------------------------------------------------\\n\\n\n",
      "Question:  5. A marketing manager might use correlation to identify the relationship between which two variables?\n",
      "Answer:  According to the text, a marketing manager might use correlation to identify the relationship between advertisingspending and sales.\n",
      "--------------------------------------------------\\n\\n\n",
      "Question:  a) Advertising spending and sales\n",
      "Answer:  According to the text, a marketing manager might use correlation to identify the relationship between advertising spending and sales. This information could be used to decide how much money to allocate to advertising.\n",
      "--------------------------------------------------\\n\\n\n",
      "Question:  b) Sales and customer satisfaction\n",
      "Answer:  According to the text, correlation can be used in business to identify relationships between different business variables, such as sales and customer satisfaction. This information can be used to make better business decisions, such as how to allocate marketing resources.\n",
      "--------------------------------------------------\\n\\n\n",
      "Question:  c) Advertising spending and customer satisfaction\n",
      "Answer:  According to the text, correlation can be used to identify the relationship between advertising spending and sales, not customer satisfaction.\n",
      "--------------------------------------------------\\n\\n\n",
      "Question:  d) Sales and profits\n",
      "Answer:  I'm not sure what you're asking. You provided a letter \"d\" and two words \"Sales and profits\". Could you please provide more context or clarify your question?\n",
      "--------------------------------------------------\\n\\n\n",
      "Question:  \n",
      "Answer:  I'm ready to answer your question. Go ahead and ask!\n",
      "--------------------------------------------------\\n\\n\n",
      "Question:  Answer: a) Advertising spending and sales\n",
      "Answer:  It seems like you didn't ask a question, but rather provided an answer. However, I can infer that the question might be \"What is an example of two variables that a marketing manager might use correlation to identify a relationship between?\"\n",
      "\n",
      "If that's correct, then yes, the answer is indeed \"Advertising spending and sales\". According to the text, a marketing manager might use correlation to identify the relationship between advertising spending and sales, and this information could be used to decide how much money to allocate to advertising.\n",
      "--------------------------------------------------\\n\\n\n",
      "Question:  \n",
      "Answer:  I'm ready to answer your question. Go ahead and ask!\n",
      "--------------------------------------------------\\n\\n\n",
      "Question:  6. A medical researcher might use correlation to identify the relationship between which two variables?\n",
      "Answer:  According to the text, a medical researcher might use correlation to identify the relationship between smoking and lung cancer.\n",
      "--------------------------------------------------\\n\\n\n",
      "Question:  a) Smoking and lung cancer\n",
      "Answer:  According to the text, a medical researcher might use correlation to identify the relationship between smoking and lung cancer. This information could be used to develop public health campaigns to discourage smoking.\n",
      "--------------------------------------------------\\n\\n\n",
      "Question:  b) Anxiety and depression\n",
      "Answer:  According to the text, a psychologist might use correlation to identify the relationship between anxiety and depression. This information could be used to develop more effective treatments for anxiety and depression.\n",
      "--------------------------------------------------\\n\\n\n",
      "Question:  c) Ice cream sales and shark attacks\n",
      "Answer:  According to the text, there is a strong correlation between ice cream sales and shark attacks, but this does not mean that eating ice cream causes shark attacks. Instead, there is likely a third variable, such as hot weather, that causes both ice cream sales and shark attacks to increase.\n",
      "--------------------------------------------------\\n\\n\n",
      "Question:  d) Hot weather and ice cream sales\n",
      "Answer:  According to the text, hot weather is a third variable that causes both ice cream sales and shark attacks to increase. This means that there is a correlation between hot weather and ice cream sales, as well as between hot weather and shark attacks.\n",
      "--------------------------------------------------\\n\\n\n",
      "Question:  \n",
      "Answer:  I'm ready to answer your question. Go ahead and ask!\n",
      "--------------------------------------------------\\n\\n\n",
      "Question:  Answer: a) Smoking and lung cancer\n",
      "Answer:  I apologize, but it seems like you didn't ask a question. You provided an answer, but there was no question preceding it. If you meant to ask a question, please feel free to ask, and I'll do my best to assist you!\n",
      "--------------------------------------------------\\n\\n\n",
      "Question:  \n",
      "Answer:  I'm ready to answer your question. Go ahead and ask!\n",
      "--------------------------------------------------\\n\\n\n",
      "Question:  **Section 4: Correlation vs. Causation**\n",
      "Answer:  There is no Section 4: Correlation vs. Causation in the provided text. However, the concept of correlation vs. causation is mentioned in the conclusion section. It states that correlation does not equal causation, and provides an example of a strong correlation between ice cream sales and shark attacks, but notes that eating ice cream does not cause shark attacks. Instead, there is likely a third variable, such as hot weather, that causes both ice cream sales and shark attacks to increase.\n",
      "--------------------------------------------------\\n\\n\n",
      "Question:  \n",
      "Answer:  I'm ready to answer your question. Go ahead and ask away!\n",
      "--------------------------------------------------\\n\\n\n",
      "Question:  7. What is an important note to keep in mind when interpreting correlation results?\n",
      "Answer:  According to the text, an important note to keep in mind when interpreting correlation results is that correlation does not equal causation. Just because two variables are correlated does not mean that one variable causes the other.\n",
      "--------------------------------------------------\\n\\n\n",
      "Question:  a) Correlation always implies causation\n",
      "Answer:  No, that's not correct. According to the text, \"It is important to note that correlation does not equal causation. Just because two variables are correlated does not mean that one variable causes the other.\" This is illustrated with the example of the correlation between ice cream sales and shark attacks, where a third variable (hot weather) is likely the cause of both.\n",
      "--------------------------------------------------\\n\\n\n",
      "Question:  b) Correlation never implies causation\n",
      "Answer:  That's correct! According to the text, \"It is important to note that correlation does not equal causation. Just because two variables are correlated does not mean that one variable causes the other.\" This means that even if there is a strong correlation between two variables, it does not necessarily mean that one variable is causing the other. There may be other factors at play, such as a third variable that is influencing both variables.\n",
      "--------------------------------------------------\\n\\n\n",
      "Question:  c) Correlation does not necessarily imply causation\n",
      "Answer:  That's correct! According to the text, \"It is important to note that correlation does not equal causation. Just because two variables are correlated does not mean that one variable causes the other.\" This is illustrated with the example of the correlation between ice cream sales and shark attacks, where a third variable (hot weather) is likely the cause of both.\n",
      "--------------------------------------------------\\n\\n\n",
      "Question:  d) Correlation is only used in business and finance\n",
      "Answer:  That is incorrect. According to the text, correlation is used in a wide variety of fields, including:\n",
      "\n",
      "1. Business\n",
      "2. Finance\n",
      "3. Medicine\n",
      "4. Psychology\n",
      "\n",
      "It is not limited to only business and finance.\n",
      "--------------------------------------------------\\n\\n\n",
      "Question:  \n",
      "Answer:  I'm ready to answer your question. Go ahead and ask away!\n",
      "--------------------------------------------------\\n\\n\n",
      "Question:  Answer: c) Correlation does not necessarily imply causation\n",
      "Answer:  I'm happy to help! However, I don't see a question being asked. It seems like you've provided an answer, but I'm not sure what the question is.\n",
      "\n",
      "If you meant to ask \"What is an important thing to note when working with correlation?\" then the correct answer would indeed be \"Correlation does not necessarily imply causation.\" This is mentioned in the conclusion of the provided text, which states that just because two variables are correlated does not mean that one variable causes the other.\n",
      "--------------------------------------------------\\n\\n\n",
      "Question:  \n",
      "Answer:  I'm ready to answer your question. Go ahead and ask!\n",
      "--------------------------------------------------\\n\\n\n",
      "Question:  8. What is an example of a spurious correlation mentioned in the text?\n",
      "Answer:  The example of a spurious correlation mentioned in the text is the correlation between ice cream sales and shark attacks. It is stated that there is a strong correlation between the two, but it does not mean that eating ice cream causes shark attacks. Instead, there is likely a third variable, such as hot weather, that causes both ice cream sales and shark attacks to increase.\n",
      "--------------------------------------------------\\n\\n\n",
      "Question:  a) The relationship between smoking and lung cancer\n",
      "Answer:  According to the text, a medical researcher might use correlation to identify the relationship between smoking and lung cancer. This information could be used to develop public health campaigns to discourage smoking.\n",
      "--------------------------------------------------\\n\\n\n",
      "Question:  b) The relationship between anxiety and depression\n",
      "Answer:  According to the text, a psychologist might use correlation to identify the relationship between anxiety and depression. This information could be used to develop more effective treatments for anxiety and depression.\n",
      "--------------------------------------------------\\n\\n\n",
      "Question:  c) The relationship between ice cream sales and shark attacks\n",
      "Answer:  According to the text, there is a strong correlation between ice cream sales and shark attacks, but this does not mean that eating ice cream causes shark attacks. Instead, there is likely a third variable, such as hot weather, that causes both ice cream sales and shark attacks to increase.\n",
      "--------------------------------------------------\\n\\n\n",
      "Question:  d) The relationship between hot weather and ice cream sales\n",
      "Answer:  According to the text, there is a correlation between hot weather and ice cream sales, as well as between hot weather and shark attacks. This means that when the weather is hot, ice cream sales tend to increase, and shark attacks also tend to increase. However, this correlation does not imply that eating ice cream causes shark attacks, but rather that hot weather is a common underlying factor that contributes to both phenomena.\n",
      "--------------------------------------------------\\n\\n\n",
      "Question:  \n",
      "Answer:  I'm ready to answer your question. Go ahead and ask!\n",
      "--------------------------------------------------\\n\\n\n",
      "Question:  Answer: c) The relationship between ice cream sales and shark attacks\n",
      "Answer:  I'm happy to help! However, I don't see a question being asked. It seems like you've provided an answer, but I'm not sure what the question is.\n",
      "\n",
      "If you could provide the question, I'd be happy to help you answer it based on the provided context.\n",
      "--------------------------------------------------\\n\\n\n"
     ]
    }
   ],
   "source": [
    "# Answer each question and save to a file\n",
    "for question in ques_list:\n",
    "    print(\"Question: \", question)\n",
    "    answer = answer_generation_chain.run(question)\n",
    "    print(\"Answer: \", answer)\n",
    "    print(\"--------------------------------------------------\\\\n\\\\n\")\n",
    "    # Save answer to file\n",
    "    with open(\"answers.txt\", \"a\") as f:\n",
    "        f.write(\"Question: \" + question + \"\\\\n\")\n",
    "        f.write(\"Answer: \" + answer + \"\\\\n\")\n",
    "        f.write(\"--------------------------------------------------\\\\n\\\\n\")"
   ]
  },
  {
   "cell_type": "code",
   "execution_count": null,
   "metadata": {},
   "outputs": [],
   "source": []
  }
 ],
 "metadata": {
  "kernelspec": {
   "display_name": "interview1",
   "language": "python",
   "name": "python3"
  },
  "language_info": {
   "codemirror_mode": {
    "name": "ipython",
    "version": 3
   },
   "file_extension": ".py",
   "mimetype": "text/x-python",
   "name": "python",
   "nbconvert_exporter": "python",
   "pygments_lexer": "ipython3",
   "version": "3.10.16"
  }
 },
 "nbformat": 4,
 "nbformat_minor": 2
}
